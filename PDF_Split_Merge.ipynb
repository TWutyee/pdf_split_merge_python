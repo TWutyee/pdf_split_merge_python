{
 "cells": [
  {
   "cell_type": "code",
   "execution_count": 1,
   "id": "83f4d0d8-c9ad-4d59-a28c-d0c08b254f13",
   "metadata": {},
   "outputs": [
    {
     "name": "stdout",
     "output_type": "stream",
     "text": [
      "Requirement already satisfied: pypdf in c:\\users\\user\\anaconda3\\envs\\myproject\\lib\\site-packages (5.7.0)\n"
     ]
    }
   ],
   "source": [
    "!pip install pypdf"
   ]
  },
  {
   "cell_type": "code",
   "execution_count": null,
   "id": "8f60449d-f82e-4ca8-ab36-3c39f708f8ba",
   "metadata": {},
   "outputs": [],
   "source": [
    "#split a PDF into single pages"
   ]
  },
  {
   "cell_type": "code",
   "execution_count": 3,
   "id": "fd158cbf-7eb4-4939-b417-664f871bc629",
   "metadata": {},
   "outputs": [],
   "source": [
    "from pypdf import PdfReader, PdfWriter\n",
    "\n",
    "original_reader = PdfReader(\"sample/original.pdf\")\n",
    "new_page_reader = PdfReader(\"sample/new_page.PDF\")\n",
    "\n",
    "# to check if the original pdf file is read or not\n",
    "original_reader \n",
    "# to check if the new pdf file is read or not\n",
    "new_page_reader\n",
    "\n",
    "# Create a writer to build the final PDF\n",
    "writer = PdfWriter()\n",
    "\n",
    "# Step 1: Add pages 0 to 3 (1-4 in human terms) from original pdf file\n",
    "for i in range(4): # 0 to 3\n",
    "    writer.add_page(original_reader.pages[i])\n",
    "\n",
    "# Step 2: Add the page from new_page\n",
    "writer.add_page(new_page_reader.pages[0])\n",
    "\n",
    "# Step 3 : Write out the result\n",
    "with open(\"final_merged.pdf\", \"wb\") as output_pdf:\n",
    "    writer.write(output_pdf)"
   ]
  },
  {
   "cell_type": "code",
   "execution_count": null,
   "id": "202eed23-7711-40e2-a242-5555f23a9a03",
   "metadata": {},
   "outputs": [],
   "source": []
  }
 ],
 "metadata": {
  "kernelspec": {
   "display_name": "Python (myproject)",
   "language": "python",
   "name": "myproject"
  },
  "language_info": {
   "codemirror_mode": {
    "name": "ipython",
    "version": 3
   },
   "file_extension": ".py",
   "mimetype": "text/x-python",
   "name": "python",
   "nbconvert_exporter": "python",
   "pygments_lexer": "ipython3",
   "version": "3.12.9"
  }
 },
 "nbformat": 4,
 "nbformat_minor": 5
}
