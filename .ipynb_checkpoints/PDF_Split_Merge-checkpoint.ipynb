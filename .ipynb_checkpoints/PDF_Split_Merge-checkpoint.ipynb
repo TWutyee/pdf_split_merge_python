{
 "cells": [
  {
   "cell_type": "code",
   "execution_count": 1,
   "id": "83f4d0d8-c9ad-4d59-a28c-d0c08b254f13",
   "metadata": {},
   "outputs": [
    {
     "name": "stdout",
     "output_type": "stream",
     "text": [
      "Requirement already satisfied: pypdf in c:\\users\\user\\anaconda3\\envs\\myproject\\lib\\site-packages (5.7.0)\n"
     ]
    }
   ],
   "source": [
    "!pip install pypdf"
   ]
  },
  {
   "cell_type": "code",
   "execution_count": null,
   "id": "8f60449d-f82e-4ca8-ab36-3c39f708f8ba",
   "metadata": {},
   "outputs": [],
   "source": [
    "#split a PDF into single pages"
   ]
  },
  {
   "cell_type": "code",
   "execution_count": 1,
   "id": "fd158cbf-7eb4-4939-b417-664f871bc629",
   "metadata": {},
   "outputs": [
    {
     "ename": "FileNotFoundError",
     "evalue": "[Errno 2] No such file or directory: 'original.pdf'",
     "output_type": "error",
     "traceback": [
      "\u001b[31m---------------------------------------------------------------------------\u001b[39m",
      "\u001b[31mFileNotFoundError\u001b[39m                         Traceback (most recent call last)",
      "\u001b[36mCell\u001b[39m\u001b[36m \u001b[39m\u001b[32mIn[1]\u001b[39m\u001b[32m, line 3\u001b[39m\n\u001b[32m      1\u001b[39m \u001b[38;5;28;01mfrom\u001b[39;00m\u001b[38;5;250m \u001b[39m\u001b[34;01mpypdf\u001b[39;00m\u001b[38;5;250m \u001b[39m\u001b[38;5;28;01mimport\u001b[39;00m PdfReader, PdfWriter\n\u001b[32m----> \u001b[39m\u001b[32m3\u001b[39m original_reader = PdfReader(\u001b[33m\"\u001b[39m\u001b[33moriginal.pdf\u001b[39m\u001b[33m\"\u001b[39m)\n\u001b[32m      4\u001b[39m new_page_reader = PdfReader(\u001b[33m\"\u001b[39m\u001b[33mnew_page.PDF\u001b[39m\u001b[33m\"\u001b[39m)\n\u001b[32m      6\u001b[39m \u001b[38;5;66;03m# to check if the original pdf file is read or not\u001b[39;00m\n",
      "\u001b[36mFile \u001b[39m\u001b[32m~\\anaconda3\\envs\\myproject\\Lib\\site-packages\\pypdf\\_reader.py:136\u001b[39m, in \u001b[36mPdfReader.__init__\u001b[39m\u001b[34m(self, stream, strict, password)\u001b[39m\n\u001b[32m    132\u001b[39m \u001b[38;5;28mself\u001b[39m._page_id2num: Optional[Dict[Any, Any]] = \u001b[38;5;28;01mNone\u001b[39;00m\n\u001b[32m    134\u001b[39m \u001b[38;5;28mself\u001b[39m._validated_root: Optional[DictionaryObject] = \u001b[38;5;28;01mNone\u001b[39;00m\n\u001b[32m--> \u001b[39m\u001b[32m136\u001b[39m \u001b[38;5;28mself\u001b[39m._initialize_stream(stream)\n\u001b[32m    137\u001b[39m \u001b[38;5;28mself\u001b[39m._known_objects: Set[Tuple[\u001b[38;5;28mint\u001b[39m, \u001b[38;5;28mint\u001b[39m]] = \u001b[38;5;28mset\u001b[39m()\n\u001b[32m    139\u001b[39m \u001b[38;5;28mself\u001b[39m._override_encryption = \u001b[38;5;28;01mFalse\u001b[39;00m\n",
      "\u001b[36mFile \u001b[39m\u001b[32m~\\anaconda3\\envs\\myproject\\Lib\\site-packages\\pypdf\\_reader.py:155\u001b[39m, in \u001b[36mPdfReader._initialize_stream\u001b[39m\u001b[34m(self, stream)\u001b[39m\n\u001b[32m    153\u001b[39m \u001b[38;5;28mself\u001b[39m._stream_opened = \u001b[38;5;28;01mFalse\u001b[39;00m\n\u001b[32m    154\u001b[39m \u001b[38;5;28;01mif\u001b[39;00m \u001b[38;5;28misinstance\u001b[39m(stream, (\u001b[38;5;28mstr\u001b[39m, Path)):\n\u001b[32m--> \u001b[39m\u001b[32m155\u001b[39m     \u001b[38;5;28;01mwith\u001b[39;00m \u001b[38;5;28mopen\u001b[39m(stream, \u001b[33m\"\u001b[39m\u001b[33mrb\u001b[39m\u001b[33m\"\u001b[39m) \u001b[38;5;28;01mas\u001b[39;00m fh:\n\u001b[32m    156\u001b[39m         stream = BytesIO(fh.read())\n\u001b[32m    157\u001b[39m     \u001b[38;5;28mself\u001b[39m._stream_opened = \u001b[38;5;28;01mTrue\u001b[39;00m\n",
      "\u001b[31mFileNotFoundError\u001b[39m: [Errno 2] No such file or directory: 'original.pdf'"
     ]
    }
   ],
   "source": [
    "from pypdf import PdfReader, PdfWriter\n",
    "\n",
    "original_reader = PdfReader(\"sample\\original.pdf\")\n",
    "new_page_reader = PdfReader(\"sample\\new_page.PDF\")\n",
    "\n",
    "# to check if the original pdf file is read or not\n",
    "original_reader \n",
    "# to check if the new pdf file is read or not\n",
    "new_page_reader\n",
    "\n",
    "# Create a writer to build the final PDF\n",
    "writer = PdfWriter()\n",
    "\n",
    "# Step 1: Add pages 0 to 3 (1-4 in human terms) from original pdf file\n",
    "for i in range(4): # 0 to 3\n",
    "    writer.add_page(original_reader.pages[i])\n",
    "\n",
    "# Step 2: Add the page from new_page\n",
    "writer.add_page(new_page_reader.pages[0])\n",
    "\n",
    "# Step 3 : Write out the result\n",
    "with open(\"final_merged.pdf\", \"wb\") as output_pdf:\n",
    "    writer.write(output_pdf)"
   ]
  },
  {
   "cell_type": "code",
   "execution_count": null,
   "id": "202eed23-7711-40e2-a242-5555f23a9a03",
   "metadata": {},
   "outputs": [],
   "source": []
  }
 ],
 "metadata": {
  "kernelspec": {
   "display_name": "Python (myproject)",
   "language": "python",
   "name": "myproject"
  },
  "language_info": {
   "codemirror_mode": {
    "name": "ipython",
    "version": 3
   },
   "file_extension": ".py",
   "mimetype": "text/x-python",
   "name": "python",
   "nbconvert_exporter": "python",
   "pygments_lexer": "ipython3",
   "version": "3.12.9"
  }
 },
 "nbformat": 4,
 "nbformat_minor": 5
}
